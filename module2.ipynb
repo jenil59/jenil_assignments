{
 "cells": [
  {
   "cell_type": "markdown",
   "id": "584f2603",
   "metadata": {},
   "source": [
    "#  Write a Python program to check if a number is positive, negative or Zero\n",
    "\n"
   ]
  },
  {
   "cell_type": "code",
   "execution_count": 16,
   "id": "6fb612f7",
   "metadata": {},
   "outputs": [
    {
     "name": "stdout",
     "output_type": "stream",
     "text": [
      "Enter the Number :- 0\n",
      "Given Number Is Zero\n"
     ]
    }
   ],
   "source": [
    "\n",
    "number=int(float(input(\"Enter the Number :- \")))\n",
    "if number == 0:\n",
    "    print(\"Given Number Is Zero\")\n",
    "elif number > 0:\n",
    "    print(\"Given Number Is Positive\")\n",
    "else:\n",
    "    print(\"Given Number Is Negetive\")\n"
   ]
  },
  {
   "cell_type": "markdown",
   "id": "2ef64c57",
   "metadata": {},
   "source": [
    "# Write a Python program to get the Factorial number of given number.\n"
   ]
  },
  {
   "cell_type": "code",
   "execution_count": null,
   "id": "4dbd1fbf",
   "metadata": {},
   "outputs": [],
   "source": [
    "n = int(input(\"Enter the number :- \"))\n",
    "fact=1\n",
    "for i in range(1,n+1):\n",
    "    fact*=i\n",
    "print(n,\"! = \",fact)"
   ]
  },
  {
   "cell_type": "markdown",
   "id": "ba57f3b6",
   "metadata": {},
   "source": [
    "#  Write a Python program to get the Fibonacci series of given range.\n"
   ]
  },
  {
   "cell_type": "code",
   "execution_count": null,
   "id": "7851062e",
   "metadata": {},
   "outputs": [],
   "source": [
    "\n",
    "n = int(input(\"enter value of n:- \"))\n",
    "\n",
    "print(\"\\n Fibonaci Series is :- \")\n",
    "a,b=0,1\n",
    "print(a,b,end=\" \")\n",
    "while n > 2:\n",
    "    c=a+b\n",
    "    a,b=b,c\n",
    "    print(c,end=\" \")\n",
    "    n-=1"
   ]
  },
  {
   "cell_type": "markdown",
   "id": "9845ba8e",
   "metadata": {},
   "source": [
    "#  How memory is managed in Python?\n"
   ]
  },
  {
   "cell_type": "code",
   "execution_count": null,
   "id": "ed0f9fb5",
   "metadata": {},
   "outputs": [],
   "source": [
    "how "
   ]
  },
  {
   "cell_type": "markdown",
   "id": "c9562584",
   "metadata": {},
   "source": [
    "#  What is the purpose continue statement in python?\n"
   ]
  },
  {
   "cell_type": "code",
   "execution_count": 11,
   "id": "66ad864f",
   "metadata": {},
   "outputs": [
    {
     "name": "stdout",
     "output_type": "stream",
     "text": [
      "1 2 3 4 6 7 8 9 11 12 13 14 16 17 18 19 21 22 23 24 26 27 28 29 31 32 33 34 36 37 38 39 41 42 43 44 46 47 48 49 51 52 53 54 56 57 58 59 61 62 63 64 66 67 68 69 71 72 73 74 76 77 78 79 81 82 83 84 86 87 88 89 91 92 93 94 96 97 98 99 "
     ]
    }
   ],
   "source": [
    "# -> purpose of continue statement is to point to next iteration \n",
    "\n",
    "for i in range(1,100):\n",
    "    if i%5==0:\n",
    "        continue\n",
    "    print(i,end=\" \")"
   ]
  },
  {
   "cell_type": "markdown",
   "id": "807b69b8",
   "metadata": {},
   "source": [
    "# Write python program that swap two number with temp variable and without temp variable.\n"
   ]
  },
  {
   "cell_type": "code",
   "execution_count": null,
   "id": "781ab05a",
   "metadata": {},
   "outputs": [],
   "source": [
    "\n",
    "#with temp\n",
    "a,b=1,2\n",
    "print(\"before Swapping :- \",\"a=\",a,\"b=\",b)\n",
    "temp=a\n",
    "a=b\n",
    "b=temp\n",
    "\n",
    "print(\"After Swapping  :- \",\"a=\",a,\"b=\",b)\n"
   ]
  },
  {
   "cell_type": "code",
   "execution_count": null,
   "id": "6258c512",
   "metadata": {},
   "outputs": [],
   "source": [
    "#without temp\n",
    "\n",
    "#with temp\n",
    "a,b=1,2\n",
    "print(\"before Swapping :- \",\"a=\",a,\"b=\",b)\n",
    "\n",
    "a,b=b,a\n",
    "print(\"After Swapping  :- \",\"a=\",a,\"b=\",b)\n",
    "\n"
   ]
  },
  {
   "cell_type": "markdown",
   "id": "20bf76b6",
   "metadata": {},
   "source": [
    "# Write a Python program to find whether a given number is even or odd, print out an appropriate message to the user.\n",
    "\n"
   ]
  },
  {
   "cell_type": "code",
   "execution_count": null,
   "id": "74cab75c",
   "metadata": {},
   "outputs": [],
   "source": [
    "n=int(input(\"Enter the Number :- \"))\n",
    "\n",
    "if n & 1: # we can use ( n % 2 == 1)\n",
    "    print(\"Given Number \",n,\" is odd \")\n",
    "else:\n",
    "    print(\"Given Number \",n,\" is even\")"
   ]
  },
  {
   "cell_type": "markdown",
   "id": "0dfbb890",
   "metadata": {},
   "source": [
    "# Write a Python program to test whether a passed letter is a vowel or not.\n"
   ]
  },
  {
   "cell_type": "code",
   "execution_count": null,
   "id": "15525edb",
   "metadata": {},
   "outputs": [],
   "source": [
    "# constraints :-  YOU CAN ONLY PASS A ALPHABATES\n",
    "chr = input(\"enter the character\")[0] \n",
    "\n",
    "if chr=='a' or chr=='e'or chr=='o'or chr=='i'or chr=='u': \n",
    "    print(\"Given character \",chr, \" is vowel\")\n",
    "else:\n",
    "    print(\"Given character \",chr, \" is consonant\")"
   ]
  },
  {
   "cell_type": "markdown",
   "id": "92d3905d",
   "metadata": {},
   "source": [
    "#  Write a Python program to sum of three given integers. However, if two values are equal sum will be zero.\n"
   ]
  },
  {
   "cell_type": "code",
   "execution_count": null,
   "id": "d3b77662",
   "metadata": {},
   "outputs": [],
   "source": [
    "a,b,c=int(input(\"a: \")),int(input(\"b: \")),int(input(\"c: \"))\n",
    "\n",
    "if a-b==0 or b-c==0 or c-a==0:\n",
    "    sum = 0\n",
    "else:\n",
    "    sum = a+b+c\n",
    "\n",
    "print(\"Sum = \",sum)"
   ]
  },
  {
   "cell_type": "markdown",
   "id": "04ccd115",
   "metadata": {},
   "source": [
    "# Write a Python program that will return true if the two given integer values are equal or their sum or difference is 5.\n"
   ]
  },
  {
   "cell_type": "code",
   "execution_count": null,
   "id": "a566e41d",
   "metadata": {
    "scrolled": false
   },
   "outputs": [],
   "source": [
    "a,b = int(input(\"a = \")),int(input(\"b = \"))\n",
    "\n",
    "if a==b or a+b==5 or a-b==5:\n",
    "    print(\"True\")\n",
    "else:\n",
    "    print(\"False\")\n"
   ]
  },
  {
   "cell_type": "markdown",
   "id": "7d394299",
   "metadata": {},
   "source": [
    "#  Write a python program to sum of the first n positive integers.\n"
   ]
  },
  {
   "cell_type": "code",
   "execution_count": null,
   "id": "98c875a6",
   "metadata": {},
   "outputs": [],
   "source": [
    "n = int(input(\"n:-  \"))\n",
    "sum = 0\n",
    "for i in range(n):\n",
    "    sum+=i\n",
    "print(\"sum = \",sum)"
   ]
  },
  {
   "cell_type": "markdown",
   "id": "3f2571c2",
   "metadata": {},
   "source": [
    "#  Write a Python function to reverses a string if its length is a multiple of 4."
   ]
  },
  {
   "cell_type": "code",
   "execution_count": 2,
   "id": "f9d4e344",
   "metadata": {},
   "outputs": [
    {
     "name": "stdout",
     "output_type": "stream",
     "text": [
      "Enter the string :-  call\n",
      "string is =  llac\n"
     ]
    }
   ],
   "source": [
    "string = input(\"Enter the string :-  \")\n",
    "len_str = len(string)\n",
    "\n",
    "if len_str % 4 == 0:\n",
    "    string = string[::-1]\n",
    "\n",
    "print(\"string is = \",string)"
   ]
  },
  {
   "cell_type": "markdown",
   "id": "a6299239",
   "metadata": {},
   "source": [
    "# Write a Python program to calculate the length of a string.\n"
   ]
  },
  {
   "cell_type": "code",
   "execution_count": 2,
   "id": "e7903af6",
   "metadata": {},
   "outputs": [
    {
     "name": "stdout",
     "output_type": "stream",
     "text": [
      "Enter the string  :- hello python\n",
      "Length of string is :-  12\n"
     ]
    }
   ],
   "source": [
    "string = input(\"Enter the string  :- \")\n",
    "print(\"Length of string is :- \",len(string))"
   ]
  },
  {
   "cell_type": "markdown",
   "id": "4accefe7",
   "metadata": {},
   "source": [
    "#  Write a Python program to count the number of characters (character frequency) in a string\n"
   ]
  },
  {
   "cell_type": "code",
   "execution_count": 9,
   "id": "50c7800f",
   "metadata": {},
   "outputs": [
    {
     "name": "stdout",
     "output_type": "stream",
     "text": [
      "Enter the string  :- sdksa\n",
      "k  :-  1\n",
      "s  :-  2\n",
      "d  :-  1\n",
      "a  :-  1\n"
     ]
    }
   ],
   "source": [
    "string = input(\"Enter the string  :- \")\n",
    "for i in set(string):\n",
    "    print(i,\" :- \",string.count(i))"
   ]
  },
  {
   "cell_type": "markdown",
   "id": "7aaeebc7",
   "metadata": {},
   "source": [
    "# What are negative indexes and why are they used?\n"
   ]
  },
  {
   "cell_type": "code",
   "execution_count": 12,
   "id": "b9f6c21e",
   "metadata": {},
   "outputs": [
    {
     "name": "stdout",
     "output_type": "stream",
     "text": [
      "using positive indexing  m\n",
      "using positive indexing m\n"
     ]
    }
   ],
   "source": [
    "\"\"\" \n",
    "    Negetive indexes is type of indexing which starts from -1 to -infine and -1 point to a last postion and -2 second last \n",
    "    positon so on ..\n",
    "    \n",
    "    why it is used :\n",
    "    using negetive indexing we can easily access a last element and also useful in slicing,reverse\n",
    "    \n",
    "\"\"\"\n",
    "\n",
    "string = \"this is string program\"\n",
    "\n",
    "# using positive indexing we try to acces last  element\n",
    "\n",
    "print(\"using positive indexing \",string[len(string)-1])\n",
    "\n",
    "# using negetive indexing we try to acces last  element\n",
    "\n",
    "print(\"using positive indexing\" ,string[-1])"
   ]
  },
  {
   "cell_type": "markdown",
   "id": "906bf6a8",
   "metadata": {},
   "source": [
    "# Write a Python program to count occurrences of a substring in a string.\n"
   ]
  },
  {
   "cell_type": "code",
   "execution_count": 14,
   "id": "686df985",
   "metadata": {},
   "outputs": [
    {
     "name": "stdout",
     "output_type": "stream",
     "text": [
      "Enter the string  :- this is jupyter notbook.this software is very usefull\n",
      "Enter the sub string  :- this\n",
      "occurences of sub string is :-  2\n"
     ]
    }
   ],
   "source": [
    "string = input(\"Enter the string  :- \")\n",
    "sub_string = input(\"Enter the sub string  :- \")\n",
    "print(\"occurences of sub string is :- \",string.count(sub_string))"
   ]
  },
  {
   "cell_type": "markdown",
   "id": "289c8ef9",
   "metadata": {},
   "source": [
    "#  Write a Python program to count the occurrences of each word in a given sentence\n"
   ]
  },
  {
   "cell_type": "code",
   "execution_count": 7,
   "id": "e21b0abc",
   "metadata": {},
   "outputs": [
    {
     "name": "stdout",
     "output_type": "stream",
     "text": [
      "Enter the sentence  :- A paragraph is defined as “a group of sentences or a single sentence that forms a unit” (Lunsford and Connors 116). Length and appearance do not determine whether a section in a paper is a paragraph. For instance, in some styles of writing, particularly journalistic styles, a paragraph can be just one sentence long.\n",
      "styles                ->  2\n",
      "writing,              ->  1\n",
      "can                   ->  1\n",
      "defined               ->  1\n",
      "a                     ->  29\n",
      "particularly          ->  1\n",
      "appearance            ->  1\n",
      "paragraph.            ->  1\n",
      "forms                 ->  1\n",
      "do                    ->  1\n",
      "journalistic          ->  1\n",
      "sentence              ->  3\n",
      "Length                ->  1\n",
      "as                    ->  1\n",
      "of                    ->  2\n",
      "some                  ->  1\n",
      "or                    ->  5\n",
      "paper                 ->  1\n",
      "that                  ->  1\n",
      "determine             ->  1\n",
      "is                    ->  3\n",
      "A                     ->  1\n",
      "long.                 ->  1\n",
      "in                    ->  7\n",
      "styles,               ->  1\n",
      "sentences             ->  1\n",
      "one                   ->  1\n",
      "not                   ->  1\n",
      "instance,             ->  1\n",
      "be                    ->  1\n",
      "(Lunsford             ->  1\n",
      "group                 ->  1\n",
      "and                   ->  2\n",
      "paragraph             ->  3\n",
      "Connors               ->  1\n",
      "unit”                 ->  1\n",
      "section               ->  1\n",
      "116).                 ->  1\n",
      "single                ->  1\n",
      "just                  ->  1\n",
      "“a                    ->  1\n",
      "For                   ->  1\n",
      "whether               ->  1\n"
     ]
    }
   ],
   "source": [
    "string = input(\"Enter the sentence  :- \")\n",
    "\n",
    "word_list = set(string.split(' '))\n",
    "\n",
    "for word in word_list:\n",
    "    print(word.ljust(20),\" -> \",string.count(word))\n",
    "    "
   ]
  },
  {
   "cell_type": "markdown",
   "id": "cda125d9",
   "metadata": {},
   "source": [
    "#  Write a Python program to get a single string from two given strings, separated by a space and swap the first two characters of each string.\n"
   ]
  },
  {
   "cell_type": "code",
   "execution_count": 1,
   "id": "882a96ad",
   "metadata": {},
   "outputs": [
    {
     "name": "stdout",
     "output_type": "stream",
     "text": [
      "Enter the string1  :- hello\n",
      "Enter the string2  :- goodmorning\n",
      "singt Strig :-  gollo heodmorning\n"
     ]
    }
   ],
   "source": [
    "string1 = input(\"Enter the string1  :- \")\n",
    "string2 = input(\"Enter the string2  :- \")\n",
    "\n",
    "string1 ,string2 = string2[:2] + string1[2:], string1[:2] + string2[2:]\n",
    "\n",
    "string_single = \" \".join([string1,string2])\n",
    "print(\"singt Strig :- \",string_single)\n",
    "\n"
   ]
  },
  {
   "cell_type": "markdown",
   "id": "38a9de33",
   "metadata": {},
   "source": [
    "#  Write a Python program to add 'ing' at the end of a given string (length should be at least 3). If the given string already ends with 'ing' then add 'ly' instead if the string length of the given string is less than 3, leave it unchanged.\n"
   ]
  },
  {
   "cell_type": "code",
   "execution_count": 24,
   "id": "e99b9bf2",
   "metadata": {},
   "outputs": [
    {
     "name": "stdout",
     "output_type": "stream",
     "text": [
      " ab\n"
     ]
    },
    {
     "data": {
      "text/plain": [
       "' abcd'"
      ]
     },
     "execution_count": 24,
     "metadata": {},
     "output_type": "execute_result"
    }
   ],
   "source": [
    "s = \" abcd\"\n",
    "print(s.removesuffix(\"cd\"))\n",
    "s"
   ]
  },
  {
   "cell_type": "code",
   "execution_count": 29,
   "id": "21ee9515",
   "metadata": {},
   "outputs": [
    {
     "name": "stdout",
     "output_type": "stream",
     "text": [
      "Enter the string :- playing\n",
      "playly\n"
     ]
    }
   ],
   "source": [
    "string = input(\"Enter the string :- \")\n",
    "len_str= len(string)\n",
    "\n",
    "if len_str >= 3:\n",
    "    if string.endswith('ing'):\n",
    "        string = string.removesuffix('ing')\n",
    "        string += \"ly\"\n",
    "    else:\n",
    "        string += \"ing\"\n",
    "\n",
    "print(string)"
   ]
  },
  {
   "cell_type": "markdown",
   "id": "a5412fc1",
   "metadata": {},
   "source": [
    "#  Write a Python program to find the first appearance of the substring 'not' and 'poor' from a given string, if 'not' follows the 'poor', replace the whole 'not'...'poor' substring with 'good'. Return the resulting string.\n"
   ]
  },
  {
   "cell_type": "code",
   "execution_count": 9,
   "id": "f9641b52",
   "metadata": {},
   "outputs": [
    {
     "name": "stdout",
     "output_type": "stream",
     "text": [
      "Enter the string :- hre is poor but not good\n",
      "16 7\n",
      "New string is :  hre is good good\n"
     ]
    }
   ],
   "source": [
    "string = input(\"Enter the string :- \")\n",
    "\n",
    "pos_not = string.find('not')\n",
    "pos_poor = string.find('poor')\n",
    "print(pos_not,pos_poor)\n",
    "\n",
    "if pos_not > pos_poor and pos_not != -1 and pos_poor != -1:\n",
    "    string=string[:pos_poor] + \"good \" + string[pos_not+4:]\n",
    "\n",
    "print(\"New string is : \",string)"
   ]
  },
  {
   "cell_type": "markdown",
   "id": "674eb91c",
   "metadata": {},
   "source": [
    "#  Write a Python function that takes a list of words and returns the length of the longest one.\n"
   ]
  },
  {
   "cell_type": "code",
   "execution_count": 35,
   "id": "154de720",
   "metadata": {},
   "outputs": [
    {
     "name": "stdout",
     "output_type": "stream",
     "text": [
      "Enter the list of words (saperated by space) :- 1 111 11 1111 11111 111111\n",
      "\n",
      "length of the longest word :-  6\n"
     ]
    }
   ],
   "source": [
    "string = input(\"Enter the list of words (saperated by space) :- \")\n",
    "words_list = string.split()\n",
    "print()\n",
    "max_word=0\n",
    "for word in words_list:\n",
    "    len_of_word = len(word)\n",
    "    if len_of_word > max_word:\n",
    "        max_word = len_of_word\n",
    "print(\"length of the longest word :- \",max_word)\n"
   ]
  },
  {
   "cell_type": "code",
   "execution_count": null,
   "id": "ad283a91",
   "metadata": {},
   "outputs": [],
   "source": []
  },
  {
   "cell_type": "markdown",
   "id": "e60e0bcc",
   "metadata": {},
   "source": [
    "#  Write a Python program to get a string made of the first 2 and the last 2 chars from a given a string. If the string length is less than 2, return instead of the empty string.\n"
   ]
  },
  {
   "cell_type": "code",
   "execution_count": 41,
   "id": "eaf30ae3",
   "metadata": {},
   "outputs": [
    {
     "name": "stdout",
     "output_type": "stream",
     "text": [
      "Enter the string : - ab\n",
      "new string is ;-  abab\n"
     ]
    }
   ],
   "source": [
    "string = input(\"Enter the string : - \")\n",
    "len_str = len(string)\n",
    "new_string=\"\"\n",
    "if len_str >= 2:\n",
    "    new_string = string[:2] + string[-2:]\n",
    "print(\"new string is :- \",new_string)\n"
   ]
  },
  {
   "cell_type": "markdown",
   "id": "b12866fe",
   "metadata": {},
   "source": [
    "#  Write a Python function to insert a string in the middle of a string."
   ]
  },
  {
   "cell_type": "code",
   "execution_count": 45,
   "id": "f8cc4c73",
   "metadata": {},
   "outputs": [
    {
     "name": "stdout",
     "output_type": "stream",
     "text": [
      "Enter the string :- harry\n",
      "Enter the string which will insert in middle :- on\n",
      "New Generated string is :-  haronry\n"
     ]
    }
   ],
   "source": [
    "string = input(\"Enter the string :- \")\n",
    "string_middle = input(\"Enter the string which will insert in middle :- \")\n",
    "\n",
    "mid = len(string)//2 + 1\n",
    "\n",
    "new_string = string[:mid] + string_middle + string[mid:]\n",
    "\n",
    "print(\"New Generated string is :- \",new_string)"
   ]
  }
 ],
 "metadata": {
  "kernelspec": {
   "display_name": "Python 3 (ipykernel)",
   "language": "python",
   "name": "python3"
  },
  "language_info": {
   "codemirror_mode": {
    "name": "ipython",
    "version": 3
   },
   "file_extension": ".py",
   "mimetype": "text/x-python",
   "name": "python",
   "nbconvert_exporter": "python",
   "pygments_lexer": "ipython3",
   "version": "3.9.12"
  }
 },
 "nbformat": 4,
 "nbformat_minor": 5
}
