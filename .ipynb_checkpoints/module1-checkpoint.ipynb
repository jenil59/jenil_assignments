{
 "cells": [
  {
   "cell_type": "markdown",
   "id": "a7de2d01",
   "metadata": {},
   "source": [
    "### what is software"
   ]
  },
  {
   "cell_type": "code",
   "execution_count": null,
   "id": "2c192180",
   "metadata": {},
   "outputs": [],
   "source": [
    " -> software is collection of various computer programs"
   ]
  },
  {
   "cell_type": "markdown",
   "id": "99558cfc",
   "metadata": {},
   "source": [
    "### What are the types of Applications?"
   ]
  },
  {
   "cell_type": "code",
   "execution_count": null,
   "id": "232eae64",
   "metadata": {},
   "outputs": [],
   "source": [
    " 1. Web application        \n",
    " 2. Mobile Application\n",
    " 3. Desktop Application"
   ]
  },
  {
   "cell_type": "markdown",
   "id": "43a98f34",
   "metadata": {},
   "source": [
    "### What is programing?"
   ]
  },
  {
   "cell_type": "code",
   "execution_count": null,
   "id": "a03d95bc",
   "metadata": {},
   "outputs": [],
   "source": [
    "programing is colection of various instruction which can peforms perticulat task.\n",
    "these instructions would written in some programming languagies."
   ]
  },
  {
   "cell_type": "markdown",
   "id": "3907201a",
   "metadata": {},
   "source": [
    "### What is Python?"
   ]
  },
  {
   "cell_type": "code",
   "execution_count": null,
   "id": "bc98cb19",
   "metadata": {},
   "outputs": [],
   "source": [
    "python is widely popular programing language.\n",
    "it is high level languange and general purpose programing language.\n",
    "with python we can creat webapplication,softwares,programs,systems,etc ..\n",
    "and it is also open soruce so that it's code publicaly available.\n",
    "\n",
    "features of python :\n",
    "    -> Easy to code\n",
    "    -> dynamicaly typed\n",
    "    -> object oriented\n",
    "    -> interpreted\n",
    "    -> dynamic memory management\n",
    "    -> plateform independant"
   ]
  }
 ],
 "metadata": {
  "kernelspec": {
   "display_name": "Python 3 (ipykernel)",
   "language": "python",
   "name": "python3"
  },
  "language_info": {
   "codemirror_mode": {
    "name": "ipython",
    "version": 3
   },
   "file_extension": ".py",
   "mimetype": "text/x-python",
   "name": "python",
   "nbconvert_exporter": "python",
   "pygments_lexer": "ipython3",
   "version": "3.9.13"
  }
 },
 "nbformat": 4,
 "nbformat_minor": 5
}
